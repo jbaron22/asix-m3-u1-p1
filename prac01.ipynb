{
  "cells": [
    {
      "cell_type": "markdown",
      "id": "2e3d5b79-352b-4800-ae9d-822846a0ece1",
      "metadata": {
        "nbgrader": {
          "grade": false,
          "grade_id": "cell-bdd4d42f95339346",
          "locked": true,
          "schema_version": 3,
          "solution": false,
          "task": false
        },
        "tags": [],
        "id": "2e3d5b79-352b-4800-ae9d-822846a0ece1"
      },
      "source": [
        "# Pràctica 1 - IF, FOR, WHILE, LLISTES"
      ]
    },
    {
      "cell_type": "markdown",
      "id": "49922319-496c-4369-aaa1-86a71d43287e",
      "metadata": {
        "nbgrader": {
          "grade": false,
          "grade_id": "cell-008f62b8682bfb2b",
          "locked": true,
          "schema_version": 3,
          "solution": false,
          "task": false
        },
        "tags": [],
        "id": "49922319-496c-4369-aaa1-86a71d43287e"
      },
      "source": [
        "Desenvolupa un codi per a cada exercici. Per a entregar la pràctica, podeu adjuntar un fitxer amb tots els codis separats per a cada exercici o adjuntar un fitxer per a cada exercici per separat. Es recomana que realitzeu els exercicis de forma individual, preguntant en cas de dubte. **En cas que es detecti una copia, la pràctica té un 0 i, a més a més, l’alumne tindrà més dificultats a l’hora de realitzar l’examen ja que no haurà practicat suficient.**\n",
        "\n",
        "> Es valorarà l’ús d’estructures IF,FOR,WHILE i llistes per a agilitzar el codi i optimitzar-lo."
      ]
    },
    {
      "cell_type": "markdown",
      "id": "dddb4552-50af-4381-8f26-af6c2d898bd3",
      "metadata": {
        "nbgrader": {
          "grade": false,
          "grade_id": "cell-74a16bd849326bf6",
          "locked": true,
          "schema_version": 3,
          "solution": false,
          "task": false
        },
        "tags": [],
        "id": "dddb4552-50af-4381-8f26-af6c2d898bd3"
      },
      "source": [
        "## Exercici 1\n",
        "\n",
        "Crea una frase i transforma-la en una llista. Mostra la llista per pantalla. Després, mostra la seva llista al revés. En acabat, mostra la seva longitud."
      ]
    },
    {
      "cell_type": "code",
      "execution_count": null,
      "id": "f080ea88-8029-43b2-86d4-3025735a1ce9",
      "metadata": {
        "nbgrader": {
          "grade": true,
          "grade_id": "cell-01b34421af65e869",
          "locked": true,
          "points": 1,
          "schema_version": 3,
          "solution": false,
          "task": false
        },
        "tags": [],
        "id": "f080ea88-8029-43b2-86d4-3025735a1ce9"
      },
      "outputs": [],
      "source": [
        "frase = list(input(\"Introduce la frase: \"))\n",
        "print(frase)\n",
        "frase.reverse()\n",
        "print(frase)\n",
        "print(len(frase))"
      ]
    },
    {
      "cell_type": "markdown",
      "id": "df8b3a08-2277-42b5-bbf7-ba06e8da0183",
      "metadata": {
        "nbgrader": {
          "grade": false,
          "grade_id": "cell-8263e7e5ec48d93c",
          "locked": true,
          "schema_version": 3,
          "solution": false,
          "task": false
        },
        "tags": [],
        "id": "df8b3a08-2277-42b5-bbf7-ba06e8da0183"
      },
      "source": [
        "## Exercici 2\n",
        "\n",
        "Desenvolupa un programa que demani tres nombres a l’usuari i indiqui quin d’ells és més gran."
      ]
    },
    {
      "cell_type": "code",
      "execution_count": null,
      "id": "92bceb75-e717-45ff-9687-e6ea77b9bced",
      "metadata": {
        "id": "92bceb75-e717-45ff-9687-e6ea77b9bced"
      },
      "outputs": [],
      "source": [
        "lista = []\n",
        "for i in range (3):\n",
        "  numero = int(input(\"Introduce un numero: \"))\n",
        "  lista.append(numero)\n",
        "print(\"El numero más alto es\", max(lista))"
      ]
    },
    {
      "cell_type": "markdown",
      "id": "78fed00f-086c-46a5-b814-dcb358837cac",
      "metadata": {
        "id": "78fed00f-086c-46a5-b814-dcb358837cac"
      },
      "source": [
        "## Exercici 3\n",
        "\n",
        "Escriu un snippet que retorni les posicions imparells del següent array: vector = [3,6,2,9,7,4,5,7]. Ha de mostrar per pantalla 6, 9, 4, 7."
      ]
    },
    {
      "cell_type": "code",
      "execution_count": null,
      "id": "e0787212-1f81-4317-986a-dc937d03e6ab",
      "metadata": {
        "id": "e0787212-1f81-4317-986a-dc937d03e6ab"
      },
      "outputs": [],
      "source": [
        "vector = [3,6,2,9,7,4,5,7]\n",
        "for i in range(1, len(vector), 2):\n",
        "  print(vector[i])"
      ]
    },
    {
      "cell_type": "markdown",
      "id": "30b18b46-46f9-4574-bcd9-03fd929abf04",
      "metadata": {
        "id": "30b18b46-46f9-4574-bcd9-03fd929abf04"
      },
      "source": [
        "## Exercici 4\n",
        "\n",
        "Desenvolupa un programa que calculi la mitja de l’array (20,3,15,18)"
      ]
    },
    {
      "cell_type": "code",
      "source": [
        "lista = [20,3,15,18]\n",
        "media = sum(lista)/len(lista)\n",
        "print(\"Los numeros en la lista son:\",lista)\n",
        "print(\"La suma de la lista es\",sum(lista))\n",
        "print(\"la media de\",sum(lista), \"es\",media)"
      ],
      "metadata": {
        "id": "xTKVMZxrptwy"
      },
      "id": "xTKVMZxrptwy",
      "execution_count": null,
      "outputs": []
    },
    {
      "cell_type": "markdown",
      "id": "8e4019d0-551f-402b-ae85-de2664766593",
      "metadata": {
        "id": "8e4019d0-551f-402b-ae85-de2664766593"
      },
      "source": [
        "## Exercici 5\n",
        "Genera un codi vagi recorrent la frase: “En un lugar de la Mancha” fins que trobi la M. En acabat, ha de dir quantes lletres i espais hi ha fins la M."
      ]
    },
    {
      "cell_type": "code",
      "execution_count": null,
      "id": "4610e571-f48c-4b26-95a8-e09dc655c562",
      "metadata": {
        "id": "4610e571-f48c-4b26-95a8-e09dc655c562"
      },
      "outputs": [],
      "source": [
        "frase = \"En un lugar de la Mancha\"\n",
        "listafrase = list(frase)\n",
        "for i in range(len(listafrase)):\n",
        "  print(listafrase[i])\n",
        "  if listafrase[i] == \"M\":\n",
        "    break"
      ]
    },
    {
      "cell_type": "markdown",
      "id": "d84b24b9-c73d-46f0-b5da-bb87aab394fa",
      "metadata": {
        "id": "d84b24b9-c73d-46f0-b5da-bb87aab394fa"
      },
      "source": [
        "## Exercici 6\n",
        "\n",
        "Modifica el següent codi per a que no es mostrin mai les “a”:\n",
        "\n",
        "```python\n",
        "frase = \"Soy el mas guay del paraguay\"\n",
        "for i in frase:\n",
        "    print(i)\n",
        "```"
      ]
    },
    {
      "cell_type": "code",
      "execution_count": null,
      "id": "33ed8a70-9cc4-4120-8428-d197c775a5de",
      "metadata": {
        "id": "33ed8a70-9cc4-4120-8428-d197c775a5de"
      },
      "outputs": [],
      "source": [
        "frase = list(\"Soy el mas guay del paraguay\")\n",
        "for i in frase:\n",
        "  if i == \"a\":\n",
        "    frase.remove(\"a\")\n",
        "print(frase)"
      ]
    },
    {
      "cell_type": "markdown",
      "id": "032a8f7d-fc01-46fc-9302-f2db8ab08ec0",
      "metadata": {
        "id": "032a8f7d-fc01-46fc-9302-f2db8ab08ec0"
      },
      "source": [
        "## Exercici 7\n",
        "\n",
        "Escriu un programa que a cada component de l’array = [4,4,5,2,7,3] li sumi 3 utilitzant un bucle for. L’array ha de quedar array=[7,7,8,5,10,6]."
      ]
    },
    {
      "cell_type": "code",
      "execution_count": null,
      "id": "60c02507-5508-4f4d-beb6-04c86a44f5f3",
      "metadata": {
        "id": "60c02507-5508-4f4d-beb6-04c86a44f5f3"
      },
      "outputs": [],
      "source": [
        "lista = [4,4,5,2,7,3]\n",
        "listavacia = []\n",
        "for i in range(len(lista)):\n",
        "  suma = (lista[i] + 3)\n",
        "  listavacia.append(suma)\n",
        "print(listavacia)"
      ]
    },
    {
      "cell_type": "markdown",
      "id": "7ebce496-6ba2-4543-b63a-c392659df722",
      "metadata": {
        "id": "7ebce496-6ba2-4543-b63a-c392659df722"
      },
      "source": [
        "## Exercici 8\n",
        "\n",
        "Crea una “tragaperras” de tres nombres entre 0 i 5. S’indica a l’usuari quins nombres han sortit. Si coincideixen, un missatge ha de dir: “has guanyat” i sortir del programa. L’usuari pot fer el nombre de tirades que vulgui fins que digui “prou”. S’ha de mostrar el nombre de jugades fins a dir “prou”. S’ha de mostrar també el nombre de diners perduts. Cada tirada costa 1€ i guanyar dona 10€."
      ]
    },
    {
      "cell_type": "code",
      "execution_count": null,
      "id": "9056e741-e6a1-41a4-8cda-4b0833f55083",
      "metadata": {
        "id": "9056e741-e6a1-41a4-8cda-4b0833f55083"
      },
      "outputs": [],
      "source": [
        "import random\n",
        "partidas = 0\n",
        "dinero = 5\n",
        "valor = True\n",
        "while(valor == True):\n",
        "  if (input(\"Quieres jugar? \") == \"si\"):\n",
        "    partidas = partidas + 1\n",
        "    dinero = dinero - 1\n",
        "    num1 = random.randint(0,5)\n",
        "    num2 = random.randint(0,5)\n",
        "    num3 = random.randint(0,5)\n",
        "    print(num1,\" \", num2,\" \",num3)\n",
        "    if (num1 == num2 and num2 == num3 ):\n",
        "      print(\"Has ganado!\")\n",
        "      dinero = dinero + 10\n",
        "      print(\"Has jugado\", partidas, \"partidas\")\n",
        "      print(\"Tienes\", dinero, \"€\")\n",
        "    elif (dinero == 0):\n",
        "      print(\"Te has quedado sin dinero :(\")\n",
        "      print(\"Has jugado\", partidas, \"partidas\")\n",
        "      valor = False\n",
        "  else:\n",
        "    print(\"Has jugado\", partidas, \"partidas\")\n",
        "    print(\"Tienes\", dinero, \"€\")\n",
        "    valor = False"
      ]
    },
    {
      "cell_type": "markdown",
      "id": "4404fb8c-54ca-4e1f-bdbd-80832e54218c",
      "metadata": {
        "id": "4404fb8c-54ca-4e1f-bdbd-80832e54218c"
      },
      "source": [
        "## Exercici 9\n",
        "Crea un codi que mostri per pantalla els elements imparells de la següent llista = [15,10,3,45,56,2,2,68,10,23] fins que s’arribi al 68."
      ]
    },
    {
      "cell_type": "code",
      "execution_count": null,
      "id": "21a365a1-55fd-4ad0-8d3a-04e2c6e91cab",
      "metadata": {
        "id": "21a365a1-55fd-4ad0-8d3a-04e2c6e91cab"
      },
      "outputs": [],
      "source": [
        "numeros = [15,10,3,45,56,2,2,68,10,23]\n",
        "for i in numeros:\n",
        "  if (i == 68):\n",
        "    break\n",
        "  elif i%2 != 0:\n",
        "    print(i)"
      ]
    },
    {
      "cell_type": "markdown",
      "id": "43577719-4977-4aa9-92b7-60a2a8faf3b4",
      "metadata": {
        "id": "43577719-4977-4aa9-92b7-60a2a8faf3b4"
      },
      "source": [
        "## Exercici 10\n",
        "\n",
        "Crea el joc del penjat. Crea una paraula secreta de cinc lletres. S’ha d’anar mostrant per pantalla _ _ _ _ _ i substituint les _ a mesura que l’usuari vagi introduint lletres correctes. El programa acabarà després de 10 intents o si la paraula s’encerta."
      ]
    },
    {
      "cell_type": "code",
      "execution_count": null,
      "id": "c263e2b3-4f47-4df4-9572-f9359c8ff255",
      "metadata": {
        "id": "c263e2b3-4f47-4df4-9572-f9359c8ff255"
      },
      "outputs": [],
      "source": [
        "paraula = \"movil\"\n",
        "endevinada = \"\"\n",
        "errors = 10\n",
        "\n",
        "while errors > 0:\n",
        "  print()\n",
        "  lletra = input(\"Diga'm una lletra: \")\n",
        "  if lletra in paraula:\n",
        "    print(f\"Correcte, hi ha una o més {lletra}\")\n",
        "  else:\n",
        "    errors -= 1\n",
        "    print(f\"Incorrecte, no hi ha cap {lletra} Et queden {errors} intents\")\n",
        "  \n",
        "  endevinada = endevinada + lletra\n",
        "  lletraEquivocada = 0\n",
        "\n",
        "  for letter in paraula:\n",
        "    if letter in endevinada:\n",
        "      print(f\"{letter}\", end=\"\")\n",
        "    else:\n",
        "      print(\"_\", end=\"\")\n",
        "      lletraEquivocada += 1\n",
        "\n",
        "  if lletraEquivocada == 0:\n",
        "    print()\n",
        "    print()\n",
        "    print(f\"Felicitats, la paraula era:\", paraula)\n",
        "    break\n",
        "\n",
        "else:\n",
        "  print(\"Has perdut :(\")"
      ]
    },
    {
      "cell_type": "markdown",
      "id": "13dba29e-1959-40f0-9991-295f76b528c7",
      "metadata": {
        "id": "13dba29e-1959-40f0-9991-295f76b528c7"
      },
      "source": [
        "## Exercici 11\n",
        "Crea un codi que obtingui 5 nombres aleatoris del 1 al 5 i els vagi guardant en una llista mitjançant un for. Només que un dels nombres sigui el 3, el for s’ha d’aturar i mostrar la llista amb els nombres que tingui."
      ]
    },
    {
      "cell_type": "code",
      "execution_count": null,
      "id": "fe5ffed3-1fa5-49bd-9c31-b36cd48324b5",
      "metadata": {
        "id": "fe5ffed3-1fa5-49bd-9c31-b36cd48324b5"
      },
      "outputs": [],
      "source": [
        "import random\n",
        "listavacia = []\n",
        "for i in range(5):\n",
        "  num = random.randint(1,5)\n",
        "  if (num == 3):\n",
        "    break\n",
        "  else:\n",
        "    listavacia.append(num)\n",
        "print(listavacia)"
      ]
    },
    {
      "cell_type": "markdown",
      "id": "5ff3f60a-31b7-4a7a-b84b-82209a61f221",
      "metadata": {
        "id": "5ff3f60a-31b7-4a7a-b84b-82209a61f221"
      },
      "source": [
        "## Exercici 12\n",
        "\n",
        "Crear un programa que afegeixi números a una llista fins que introduïm un número negatiu. A continuació heu de crear una nova llista igual que l'anterior però eliminant els números duplicats. Mostra aquesta segona llista per comprovar que hem eliminat els duplicats."
      ]
    },
    {
      "cell_type": "code",
      "execution_count": null,
      "id": "ef7b55dd-554a-48f5-9da8-f209fcb39ed9",
      "metadata": {
        "id": "ef7b55dd-554a-48f5-9da8-f209fcb39ed9"
      },
      "outputs": [],
      "source": [
        "listavacia = []\n",
        "lista2 = []\n",
        "pregunta = True\n",
        "while pregunta == True:\n",
        "  numero = int(input(\"Dime un numero: \"))\n",
        "  if numero >= 0:\n",
        "    listavacia.append(numero)\n",
        "  else:\n",
        "    break\n",
        "for x in listavacia:\n",
        "  if x not in lista2:\n",
        "    lista2.append(x)\n",
        "print(lista2)"
      ]
    },
    {
      "cell_type": "markdown",
      "id": "4653551d-df75-44e7-99ef-924177b77bad",
      "metadata": {
        "id": "4653551d-df75-44e7-99ef-924177b77bad"
      },
      "source": [
        "## Exercici 13\n",
        "S’ha decidit fer una recuperació d’un examen de programació d’ASIX que ha anat molt malament per diversos motius. Dissenya un programa que pregunti quina nota s’ha tret en el primer examen i quina nota es creu que es traurà en aquest examen de recuperació. Després es pregunta a l’usuari quin criteri creu que farà servir el professor per tenir la nota final del parcial basant-se en els següents criteris i es mostrarà la nota final.\n",
        "\n",
        "* El professor farà una bona mitja. La nota final serà el 20% de la nota del primer examen i el 80% de la nota d’aquest examen.\n",
        "* El professor farà una mitja normal. La nota final serà el 35% de la nota del primer examen i el 65% de la nota d’aquest examen.\n",
        "* El professor farà una mala mitja. La nota final serà el 50% de la nota del primer examen i el 50% de la nota d’aquest examen.\n"
      ]
    },
    {
      "cell_type": "code",
      "execution_count": null,
      "id": "f35e4add-8972-43f6-947e-22b55d6b81f3",
      "metadata": {
        "id": "f35e4add-8972-43f6-947e-22b55d6b81f3"
      },
      "outputs": [],
      "source": [
        "examen1 = float(input(\"Quina nota has tret? \"))\n",
        "examen2 = float(input(\"Quina nota creus que treuràs? \"))\n",
        "pregunta = int(input(\"Quin criteri creus que utilitzarà el professor? (1,2,3): \"))\n",
        "\n",
        "if pregunta == 1:\n",
        "  notafinal = (float(examen1) * (20/100)) + (float(examen2) * (80/100))\n",
        "  print(notafinal)\n",
        "elif pregunta == 2:\n",
        "  notafinal = (float(examen1) * (35/100)) + (float(examen2) * (65/100))\n",
        "  print(notafinal)\n",
        "elif pregunta == 3:\n",
        "  suma = examen1 + examen2\n",
        "  divisio = suma/2\n",
        "  print(divisio)"
      ]
    },
    {
      "cell_type": "markdown",
      "id": "11041821-4102-4e33-82f1-eefa48107cc0",
      "metadata": {
        "id": "11041821-4102-4e33-82f1-eefa48107cc0"
      },
      "source": [
        "## Exercici 14\n",
        "\n",
        "Modifica el programa anterior per a que la nota final s’obtingui de forma aleatòria tenin en compte la següent comanda rand = random.uniform(0,1). Aquesta comanda obté un nombre aleatori amb decimals entre 0 i 1. La nota del primer examen es multiplicarà per aquest factor i la d’aquest examen per la resta. S’ha de mostrar la nota final."
      ]
    },
    {
      "cell_type": "code",
      "execution_count": null,
      "id": "e5294d68-8c4e-49b9-a58f-a4cce7452626",
      "metadata": {
        "id": "e5294d68-8c4e-49b9-a58f-a4cce7452626"
      },
      "outputs": [],
      "source": [
        "import random\n",
        "\n",
        "examen1 = float(input(\"Quina nota has tret? \"))\n",
        "examen2 = float(input(\"Quina nota creus que treuràs? \"))\n",
        "valor = random.uniform(0,1)\n",
        "print(\"El valor a multiplicar es\", valor)\n",
        "\n",
        "notafinal1 = examen1 * valor\n",
        "print(\"La nota del primer examen es\", notafinal1)\n",
        "notafinal2 = examen2 * (1 - valor)\n",
        "print(\"La nota del segon examen es\", notafinal2)\n",
        "suma = notafinal1 + notafinal2\n",
        "\n",
        "print(\"La nota final es\", suma)"
      ]
    },
    {
      "cell_type": "markdown",
      "id": "526a93dd-5260-4d6a-9f7c-40658f2b6132",
      "metadata": {
        "id": "526a93dd-5260-4d6a-9f7c-40658f2b6132"
      },
      "source": [
        "## Exercici 15\n",
        "\n",
        "Donada la següent llista = [39,62,24,71,40,53,12,99,20,111], desenvolupa un programa que generi una llista amb els nombres divisibles entre 3 i una altra llista amb els que no ho son. Un cop estan distribuits, la llista original s’ha de substituir per un 0 en tots els seus elements. Un cop acabat, es mostren totes les llistes."
      ]
    },
    {
      "cell_type": "code",
      "execution_count": null,
      "id": "574fd70e-8236-417b-a79f-27ea1cca2d3a",
      "metadata": {
        "id": "574fd70e-8236-417b-a79f-27ea1cca2d3a"
      },
      "outputs": [],
      "source": [
        "lista = [39,62,24,71,40,53,12,99,20,111]\n",
        "divisor3 = []\n",
        "nodivisor3 = []\n",
        "for i in lista:\n",
        "  if i%3 == 0:\n",
        "    divisor3.append(i)\n",
        "  else:\n",
        "    nodivisor3.append(i)\n",
        "print(\"Numeros divisibles entre 3:\", divisor3)\n",
        "print(\"Numeros no divisibles entre 3:\", nodivisor3)\n",
        "lista[0:10] = [0,0,0,0,0,0,0,0,0,0]\n",
        "print(\"La llista original:\", lista)"
      ]
    }
  ],
  "metadata": {
    "kernelspec": {
      "display_name": "Python 3",
      "language": "python",
      "name": "python3"
    },
    "language_info": {
      "codemirror_mode": {
        "name": "ipython",
        "version": 3
      },
      "file_extension": ".py",
      "mimetype": "text/x-python",
      "name": "python",
      "nbconvert_exporter": "python",
      "pygments_lexer": "ipython3",
      "version": "3.10.6"
    },
    "colab": {
      "provenance": [],
      "collapsed_sections": []
    }
  },
  "nbformat": 4,
  "nbformat_minor": 5
}